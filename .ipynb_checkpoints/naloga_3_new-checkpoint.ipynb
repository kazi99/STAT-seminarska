{
 "cells": [
  {
   "cell_type": "code",
   "execution_count": 17,
   "metadata": {},
   "outputs": [],
   "source": [
    "import pandas as pd\n",
    "import numpy as np\n",
    "import matplotlib.pyplot as plt\n",
    "from scipy.stats import ttest_ind\n",
    "from scipy.stats import t\n",
    "# from scipy.stats.mstats import normaltest\n",
    "from scipy.stats import levene\n",
    "from scipy.stats import f_oneway"
   ]
  },
  {
   "cell_type": "code",
   "execution_count": 2,
   "metadata": {},
   "outputs": [],
   "source": [
    "data = pd.read_csv('17_sem_nal_Izak_Jenko/Pulz.csv')\n",
    "pd.options.display.max_rows = 15"
   ]
  },
  {
   "cell_type": "markdown",
   "metadata": {},
   "source": [
    "# Točka a)"
   ]
  },
  {
   "cell_type": "markdown",
   "metadata": {},
   "source": [
    "Najprej pripravimo podatke"
   ]
  },
  {
   "cell_type": "code",
   "execution_count": 3,
   "metadata": {},
   "outputs": [],
   "source": [
    "data.insert(0, 'sprememba pulza', data['PULZ2'] - data['PULZ1'])"
   ]
  },
  {
   "cell_type": "code",
   "execution_count": 4,
   "metadata": {},
   "outputs": [],
   "source": [
    "obremenjeni = data[data['OBREMENITEV'] == 1]\n",
    "neobremenjeni = data[data['OBREMENITEV'] == 2]"
   ]
  },
  {
   "cell_type": "markdown",
   "metadata": {},
   "source": [
    "Ničelno hipotezo\n",
    "$$\n",
    "    H_0 : \\mu_1 = \\mu_2,\n",
    "$$\n",
    "kjer je $\\mu_1$ resnična povprečna sprememba pulza v skupini študentov deležnih obremenitve, $\\mu_2$ pa je povprečna sprememba pulza v skupini štvudntov brez obrememnitvem, bomo testirali z Welchevim $t$-testom. Testirali bomo torej če nam odstopanje vzorčnih povprečji $\\bar{X}_1$ in $\\bar{X}_2$ pojasni posebna izbira našega vzorca ali pa je za tem razlog, da obremenitev res vpliva na spremembo pulza.  Predpostavljamo, da je pulz pri človeku porazdeljen normalno, torej bo tudi sprememba pulza kot razlika dveh normalnih podatkov normalno porazdeljena. Ob tem pa smo se rajši odločili za Welchev $t$-test namesto za Studentov $t$-test, ker se varianci v skupinah precej razlikujeta, kot lahko vidimo:"
   ]
  },
  {
   "cell_type": "code",
   "execution_count": 5,
   "metadata": {},
   "outputs": [],
   "source": [
    "N_1, N_2 = obremenjeni.shape[0], neobremenjeni.shape[0]"
   ]
  },
  {
   "cell_type": "code",
   "execution_count": 6,
   "metadata": {},
   "outputs": [
    {
     "data": {
      "text/plain": [
       "(21.089732373697938, 3.9226390063570147)"
      ]
     },
     "execution_count": 6,
     "metadata": {},
     "output_type": "execute_result"
    }
   ],
   "source": [
    "var_1, var_2 = obremenjeni['sprememba pulza'].var(), neobremenjeni['sprememba pulza'].var()\n",
    "# to sta nepristranski cenilki za varianco posameznih skupin, npr.:\n",
    "#   var_1 = sum((obremenjeni['sprememba pulza'] - mean_1)**2)/(N_1 - 1) \n",
    "\n",
    "np.sqrt(var_1), np.sqrt(var_2)"
   ]
  },
  {
   "cell_type": "markdown",
   "metadata": {},
   "source": [
    "Vidimo torej, da je $s_1 > 2s_2$, kjer je \n",
    "$$\n",
    "s_1^2 = \\frac{1}{N_1 - 1}\\sum_{i = 1}^{N_1} (X_{1i} - \\bar{X_1})^2\n",
    "$$ \n",
    "nepristranska cenilka vzorčne variance za skupino obremenjenih študentov. Analogno je definiran $s^2_2$.\n",
    "\n",
    "Poglejmo sedaj kaj pove Welchev $t$-test (obojestranski), kjer je testna statistika podana kot\n",
    "$$\n",
    "t = \\frac{\\bar{X_1} - \\bar{X_2}}{\\sqrt{s_{X_1}^2 + s_{X_2}^2}},\n",
    "\\quad \\quad s^2_{\\bar{X}_i} = \\frac{s^2_i}{N_i}.\n",
    "$$\n",
    "Ta statistika je aproksimirana s Studentovo $t$-porazdelitvijo s približno \n",
    "$$\n",
    "\\hat{v} = \\frac{\\left(\\frac{s_1^2}{N_1} + \\frac{s_2^2}{N_2}\\right)^2}{\\frac{s_1^4}{N_1^2(N_1 - 1)} + \\frac{s_2^4}{N_2^2(N_2 - 1)}} \n",
    "$$\n",
    "prostostnimi stopnjami. To je Welch-Satterthwaitova enačba. Podobna je parametru, ki ga uporabljamo pri ocenjevanju vzorčnega povprečja pri stratificiranem vzorčenju, kjer ne poznamo stratumskih varianc (če sta stratuma samo dva)."
   ]
  },
  {
   "cell_type": "code",
   "execution_count": 7,
   "metadata": {},
   "outputs": [
    {
     "data": {
      "text/plain": [
       "Ttest_indResult(statistic=16.639875394889604, pvalue=2.1372052868587068e-21)"
      ]
     },
     "execution_count": 7,
     "metadata": {},
     "output_type": "execute_result"
    }
   ],
   "source": [
    "ttest_ind(obremenjeni['sprememba pulza'], neobremenjeni['sprememba pulza'], equal_var=False)"
   ]
  },
  {
   "cell_type": "markdown",
   "metadata": {},
   "source": [
    "Pod predpostavko ničelne hipoteze bi dobili vsaj tako ekstremen rezultat (kot so naši podatki) z verjetnostjo velikostnega reda $10^{-21}$, \n",
    "$$\n",
    "p = \\texttt{P}(|T| \\geq t_{stat}) = 2(1 - \\texttt{P}(T < t_{stat})) = 2(1 - F_{\\text{Student}(\\hat{v})}(t_{stat})), \\quad \\text{ kjer je } \\quad T \\sim \\text{Student}(\\hat{v})\n",
    "$$\n",
    "\n",
    "To je zelo malo verjetno in je seveda pod mejo $\\alpha = 0.01$, zato na podlagi tega testa ničelo hipotezo o enakih povprečjih zavrnemo. To pomeni, da obremenitev študenta vpliva na spremembo njegovega pulza.  "
   ]
  },
  {
   "cell_type": "markdown",
   "metadata": {},
   "source": [
    "Poskusimo še sami razviti Welchev $t$-test, sledimo <https://en.wikipedia.org/wiki/Welch%27s_t-test>"
   ]
  },
  {
   "cell_type": "code",
   "execution_count": 8,
   "metadata": {},
   "outputs": [],
   "source": [
    "X_1, X_2  = obremenjeni['sprememba pulza'].mean(), neobremenjeni['sprememba pulza'].mean()\n",
    "# se1, se2 = np.sqrt(var_1/N_1), np.sqrt(var_2/N_2), \n",
    "\n",
    "# testna statistika bo\n",
    "t_stat = (X_1 - X_2) / np.sqrt(var_1/N_1 + var_2/N_2)\n",
    "\n",
    "# prostostne stopnje\n",
    "\n",
    "v = ((var_1**2/N_1 + var_2**2/N_2)**2 / \n",
    "    ( var_1**4/(N_1**2 * (N_1 - 1)) + var_2**4/(N_2**2 * (N_2 - 1)) ))"
   ]
  },
  {
   "cell_type": "code",
   "execution_count": 9,
   "metadata": {},
   "outputs": [],
   "source": [
    "p_value = 2 * (1 - t.cdf(t_stat, v))"
   ]
  },
  {
   "cell_type": "markdown",
   "metadata": {},
   "source": [
    "Tudi ta test nam z zelo majhno $p$-vrednostjo $0.0$ (vrednost je tako majhna, da je python ne razume kot predstavljivo število) potrdi, da lahko ničelno hipotezo -- o tem da obremenitev ne vpliva na spremembo pulza -- zavržemo. "
   ]
  },
  {
   "cell_type": "markdown",
   "metadata": {},
   "source": [
    "# Točka b)"
   ]
  },
  {
   "cell_type": "code",
   "execution_count": 59,
   "metadata": {},
   "outputs": [
    {
     "data": {
      "text/plain": [
       "[Text(0, 0, 'vadi veliko'),\n",
       " Text(0, 0, 'vadi zmerno'),\n",
       " Text(0, 0, 'vadi malo ali sploh ne')]"
      ]
     },
     "execution_count": 59,
     "metadata": {},
     "output_type": "execute_result"
    },
    {
     "data": {
      "image/png": "[encoded data removed]",
      "text/plain": [
       "<Figure size 504x720 with 1 Axes>"
      ]
     },
     "metadata": {
      "needs_background": "light"
     },
     "output_type": "display_data"
    }
   ],
   "source": [
    "obremenjeni_vadba = [pd.DataFrame(obremenjeni[obremenjeni['VADBA'] == stopnja].groupby('sprememba pulza'))[0] for stopnja in range(1,4)]\n",
    "\n",
    "figb = plt.figure(1, figsize=(7,10))\n",
    "axb = figb.add_subplot(111)\n",
    "axb.set_ylabel('Sprememba pulza')\n",
    "axb.set_title('Goljufanje')\n",
    "boxplot = axb.boxplot(obremenjeni_vadba)\n",
    "\n",
    "axb.set_xticklabels(['vadi veliko', 'vadi zmerno', 'vadi malo ali sploh ne'])\n"
   ]
  },
  {
   "cell_type": "code",
   "execution_count": 79,
   "metadata": {},
   "outputs": [
    {
     "data": {
      "image/png": "[encoded data removed]",
      "text/plain": [
       "<Figure size 504x504 with 1 Axes>"
      ]
     },
     "metadata": {
      "needs_background": "light"
     },
     "output_type": "display_data"
    }
   ],
   "source": [
    "figb2 = plt.figure(1, figsize=(7,7))\n",
    "axb2 = figb2.add_subplot(111)\n",
    "colors = ['#26DC7B','#2687DC','#6526DC']\n",
    "label = ['vadi veliko', 'vadi zmerno', 'vadi malo ali sploh ne']\n",
    "\n",
    "for i in range(3):\n",
    "    obremenjeni[obremenjeni['VADBA'] == i+1].plot.scatter(\n",
    "        x='PULZ1', y='sprememba pulza', ax=axb2, color=colors[i], label=label[i], alpha=0.7\n",
    "    )\n",
    "\n",
    "\n",
    "axb2.set_title(\n",
    "    'Prvi izmerjen pulz v primerjavi s spremembo pulza\\n pri študentih deležnih obrmemnitve'\n",
    ")\n",
    "axb2.set_xlabel('prvi izmerjen pulz')\n",
    "axb2.set_yticks(range(0,100,10))\n",
    "axb2.set_xticks(range(40,150,10))\n",
    "axb2.legend(loc='best')\n",
    "\n",
    "plt.savefig('pulz_vadba.pdf')"
   ]
  },
  {
   "cell_type": "markdown",
   "metadata": {},
   "source": [
    "Empirično bi lahko sklepali, da študentje izbrani za obrmeneitev niso goljufali s tem, da niso tekli. Vsi, ki so imeli majhno spremembo pulza (recimo manj kot 30) bodisi vadijo veliko in imajo natrenirano srce, ali pa so že prvo meritev opravili z neobičajno visokim pulzom in se jim zaradi tega ni mogel med obremenitvijo drastično dvigniti, kar se odraža v majhni spremembi pulza. Mogoče so hiteli na testiranje, ker so zamujali, in so zaradi tega že imeli povišan pulz ob prvem merjenju."
   ]
  },
  {
   "cell_type": "markdown",
   "metadata": {},
   "source": [
    "# Točka c)\n",
    "\n",
    "Najprej testirajmo, če so vzorčne variance vseh treh skupin enake -- homoskedastičnost (homogenost variance). V preimeru da so, bomo uporabili test ANOVA za preizkušanje domneve ali so povprečja po skupinah enaka. "
   ]
  },
  {
   "cell_type": "code",
   "execution_count": 12,
   "metadata": {},
   "outputs": [
    {
     "data": {
      "text/plain": [
       "Ttest_indResult(statistic=0.02135379367516377, pvalue=0.9833800133222128)"
      ]
     },
     "execution_count": 12,
     "metadata": {},
     "output_type": "execute_result"
    }
   ],
   "source": [
    "vadi_veliko = obremenjeni[obremenjeni.VADBA == 1]\n",
    "vadi_zmerno = obremenjeni[obremenjeni.VADBA == 2]\n",
    "vadi_malo = obremenjeni[obremenjeni.VADBA == 3] \n",
    "\n",
    "ttest_ind(vadi_veliko['sprememba pulza'], vadi_malo['sprememba pulza'], equal_var=False)"
   ]
  },
  {
   "cell_type": "code",
   "execution_count": 13,
   "metadata": {},
   "outputs": [
    {
     "data": {
      "text/plain": [
       "Ttest_indResult(statistic=-0.27330070355324115, pvalue=0.7904816809371487)"
      ]
     },
     "execution_count": 13,
     "metadata": {},
     "output_type": "execute_result"
    }
   ],
   "source": [
    "ttest_ind(vadi_veliko['sprememba pulza'], vadi_zmerno['sprememba pulza'], equal_var=False)"
   ]
  },
  {
   "cell_type": "code",
   "execution_count": 14,
   "metadata": {},
   "outputs": [
    {
     "data": {
      "text/plain": [
       "Ttest_indResult(statistic=0.43030326011332753, pvalue=0.6699021725863663)"
      ]
     },
     "execution_count": 14,
     "metadata": {},
     "output_type": "execute_result"
    }
   ],
   "source": [
    "ttest_ind(vadi_zmerno['sprememba pulza'], vadi_malo['sprememba pulza'], equal_var=False)"
   ]
  },
  {
   "cell_type": "code",
   "execution_count": 15,
   "metadata": {},
   "outputs": [
    {
     "data": {
      "text/plain": [
       "LeveneResult(statistic=0.41921882687879003, pvalue=0.6602187164473925)"
      ]
     },
     "execution_count": 15,
     "metadata": {},
     "output_type": "execute_result"
    }
   ],
   "source": [
    "# levenov test za homogenost varianc\n",
    "levene(vadi_veliko['sprememba pulza'], vadi_zmerno['sprememba pulza'], vadi_malo['sprememba pulza'], center='mean')"
   ]
  },
  {
   "cell_type": "markdown",
   "metadata": {},
   "source": [
    "S $p$-vrednostjo $0.66$, lahko po Levenovem testu sklepamo, da imajo tri skupine študentov z obremenitvijo glede na to koliko vadijo približno enake variance spremembe pulza. Z drugimi besedami je sprememba pulza v vseh treh skupinah približno enako razpršena okrog povprečja, kot lahko empirično potrdimo iz grafikona."
   ]
  },
  {
   "cell_type": "code",
   "execution_count": 77,
   "metadata": {},
   "outputs": [
    {
     "data": {
      "image/png": "[encoded data removed]",
      "text/plain": [
       "<Figure size 432x360 with 1 Axes>"
      ]
     },
     "metadata": {
      "needs_background": "light"
     },
     "output_type": "display_data"
    }
   ],
   "source": [
    "figc = plt.figure(1,figsize=(6,5))\n",
    "axc = figc.add_subplot(111)\n",
    "\n",
    "for i in range(3):\n",
    "    obremenjeni[obremenjeni['VADBA'] == i+1].plot.scatter(\n",
    "        x='VADBA', y='sprememba pulza', ax=axc, color=colors[i], alpha=0.7,\n",
    "        )\n",
    "\n",
    "plt.xticks([0.5,1,2,3,3.5],['', 'vadi veliko', 'vadi zmerno', 'vadi malo ali sploh ne', ''])\n",
    "plt.yticks(range(0,100,10))\n",
    "axc.set_xlabel('')\n",
    "axc.set_title('Sprememba pulza glede na stopnjo vadbe\\npri študentih z obremenitvijo')\n",
    "\n",
    "# plt.savefig('varianca_vadba.pdf')\n",
    "# obremenjeni.plot.scatter('VADBA', 'sprememba pulza', alpha=0.7)"
   ]
  },
  {
   "cell_type": "markdown",
   "metadata": {},
   "source": [
    "Sedaj bomo za študente, ki so bili deležni obrmemenitve, testirali ničelno hipotezo\n",
    "$$\n",
    "H_0: \\text{vadba nima vpliva na spremembo pulza}.\n",
    "$$\n",
    "Z drugimi besedami, bi bilo smiselno za ničelno hipotezo vzeti $H_0 : \\mu_1 = \\mu_2 = \\mu_3$, kjer so $\\mu_1, \\mu_2, \\mu_3$ povprečja po skupinah študentov ki vadijo veliko, zmerno oziroma malo ali skoraj nič. To hipotezo bomo testirali z analizo variance -- krajše ANOVA. Ta test prepostavlja naslednje:\n",
    "* Ekspirimentalna napaka pri merjenju podatkov je približno normalno porazdeljena (to bomo privzeli).\n",
    "* Homogenost variance (to nam je potrdil Levenov test zgoraj)\n",
    "* Posamezne enote vzorca so neodvisne drug od druge (tudi to bomo privzeli) "
   ]
  },
  {
   "cell_type": "code",
   "execution_count": 18,
   "metadata": {},
   "outputs": [
    {
     "data": {
      "text/plain": [
       "F_onewayResult(statistic=0.09837114039606569, pvalue=0.9065158349208323)"
      ]
     },
     "execution_count": 18,
     "metadata": {},
     "output_type": "execute_result"
    }
   ],
   "source": [
    "f_oneway(vadi_veliko['sprememba pulza'], vadi_zmerno['sprememba pulza'], vadi_malo['sprememba pulza'])"
   ]
  },
  {
   "cell_type": "markdown",
   "metadata": {},
   "source": [
    "Vidimo, da je $p$-vrednost precej velika, kar pomeni, da bi vsaj tako ekstremen rezulat, kot je naš, dobili precej pogosto -- naš vzorec torej ni preveč ekstremen. Na podlagi tega testa lahko tako statistično sklepamo, da je ničelna hipoteza resnična, kar pomeni, da vadba nima vpliva na spremembo pulza pri študentih z obrmenitvijo."
   ]
  }
 ],
 "metadata": {
  "interpreter": {
   "hash": "aee8b7b246df8f9039afb4144a1f6fd8d2ca17a180786b69acc140d282b71a49"
  },
  "kernelspec": {
   "display_name": "Python 3 (ipykernel)",
   "language": "python",
   "name": "python3"
  },
  "language_info": {
   "codemirror_mode": {
    "name": "ipython",
    "version": 3
   },
   "file_extension": ".py",
   "mimetype": "text/x-python",
   "name": "python",
   "nbconvert_exporter": "python",
   "pygments_lexer": "ipython3",
   "version": "3.9.0"
  }
 },
 "nbformat": 4,
 "nbformat_minor": 2
}
