{
 "cells": [
  {
   "cell_type": "markdown",
   "source": [
    "# 1. naloga\n",
    "\n",
    "## Točka b)"
   ],
   "metadata": {}
  },
  {
   "cell_type": "code",
   "execution_count": 1,
   "source": [
    "import pandas as pd\n",
    "import numpy as np\n",
    "import matplotlib.pyplot as plt\n",
    "from scipy.stats import norm, t\n",
    "\n",
    "data = pd.read_csv('17_sem_nal_Izak_Jenko/Kibergrad.csv')\n",
    "pd.options.display.max_rows = 15"
   ],
   "outputs": [],
   "metadata": {}
  },
  {
   "cell_type": "markdown",
   "source": [
    "# Točka b)"
   ],
   "metadata": {}
  },
  {
   "cell_type": "code",
   "execution_count": 2,
   "source": [
    "# b) Stratumi\n",
    "N = data['DOHODEK'].count()\n",
    "\n",
    "# najprej je treba izračunati proporcionalno alokacijo\n",
    "\n",
    "# velikost stratumov\n",
    "N_strat = [data[data['CETRT'] == i]['DOHODEK'].count() for i in range(1,5)]\n",
    "# n_strat = [vzorec[vzorec['CETRT'] == i]['DOHODEK'].count() for i in range(1,5)]\n",
    "W = [N_i/N for N_i in N_strat]\n",
    "\n",
    "# populacijska povprečja po stratumih\n",
    "mu_strat = [data[data['CETRT'] == i]['DOHODEK'].mean() for i in range(1,5)]\n",
    "mu = data['DOHODEK'].mean()\n",
    "\n",
    "\n",
    "# populacijske variance po stratumih\n",
    "sigma2_strat = [\n",
    "    sum((data[data['CETRT'] == i]['DOHODEK'] - mu_strat[i-1])**2)/N_strat[i-1] for i in range(1,5)\n",
    "    ]\n"
   ],
   "outputs": [],
   "metadata": {}
  },
  {
   "cell_type": "markdown",
   "source": [
    "$$\n",
    "\\sigma^2_l = \\frac{1}{N_l}\\sum_{j = 1}^{N_l} (x_{lj} - \\mu_l)^2\n",
    "$$\n",
    "\n",
    "$$\n",
    "se^2 = \\sum_{l = 1}^L W_l^2 \\frac{\\sigma_l^2}{n_l}\\left( 1 - \\frac{n_l - 1}{N_l - 1}\\right)\n",
    "$$"
   ],
   "metadata": {}
  },
  {
   "cell_type": "code",
   "execution_count": 3,
   "source": [
    "# proporcionalana alokacija\n",
    "n = 400\n",
    "print([W[i]*n for i in range(4)]) # dve največji vrednosti zaokrožimo navzgor, ostali dve pa navzdol\n",
    "n_strat = [92, 95, 123, 90]\n",
    "\n",
    "# sedaj glede na to proporcionalno alokacijo vzorčimo\n",
    "def stratificiran_vzorec():\n",
    "    return [data[data['CETRT'] == i].sample(n=n_strat[i-1]) for i in range(1,5)]\n",
    "\n",
    "# vzorec tako bodisi genereiriamo z ukazom\n",
    "# vzorec_strat = stratificiran_vzorec()\n",
    "\n",
    "# ali pa uvozimo že od prej generiran vzorec z ukazom\n",
    "vzorec_strat = pd.read_csv('vzorec.csv')"
   ],
   "outputs": [
    {
     "output_type": "stream",
     "name": "stdout",
     "text": [
      "[92.50330401494782, 94.69990429749807, 122.65414938704826, 90.14264230050586]\n"
     ]
    }
   ],
   "metadata": {}
  },
  {
   "cell_type": "code",
   "execution_count": 4,
   "source": [
    "# če želimo vzorec s katerim s ukvarjamo exportat, poženemo naslednji dve vrstici\n",
    "# vzorec = pd.concat(vzorec_strat)\n",
    "# vzorec.to_csv('vzorec.csv', index=False)"
   ],
   "outputs": [],
   "metadata": {}
  },
  {
   "cell_type": "code",
   "execution_count": 5,
   "source": [
    "# stratumska povprečja vzorca (ocena za stratumska povprečja celotne popoulacije mu_strat)\n",
    "X_bar_strat = [sum(vzorec_strat[vzorec_strat['CETRT'] == i+1]['DOHODEK'])/n_strat[i] for i in range(4)]\n",
    "# ta povprečja so med seboj neodvisna, saj sta poljubni dve meritvi iz vzorca, \n",
    "# ki prihajata iz različnih stratumov, neodvinsi\n",
    "\n",
    "# ocena za mu\n",
    "X_bar_s = sum(W[i]*X_bar_strat[i] for i in range(4))\n",
    "\n",
    "# stratificirana standardna napaka = sqrt(var(X_bar_s))\n",
    "se = np.sqrt(\n",
    "    sum(\n",
    "        (W[l]**2) * sigma2_strat[l] * (1 - (n_strat[l] - 1)/(N_strat[l] - 1)) / n_strat[l] for l in range(4)\n",
    "    )\n",
    ")\n",
    "\n",
    "# ocena standardne napake \n",
    "s2_strat = [\n",
    "    sum((vzorec_strat[vzorec_strat['CETRT'] == l+1]['DOHODEK'] - X_bar_strat[l])**2)/(n_strat[l] - 1) for l in range(4)\n",
    "]\n",
    "\n",
    "se_hat = np.sqrt(\n",
    "    sum(W[l]**2 * s2_strat[l] * (1 - n_strat[l]/N_strat[l]) / n_strat[l] for l in range(4))\n",
    ")"
   ],
   "outputs": [],
   "metadata": {}
  },
  {
   "cell_type": "code",
   "execution_count": 6,
   "source": [
    "# interval zaupanja\n",
    "\n",
    "# stopnja tveganja\n",
    "alpha = 0.05\n",
    "\n",
    "# interval zaupanja za populacijsko povprečje (mu) pod predpostavko, da poznamo \n",
    "# populacijsko varianco, torej tocno standardno napako se. \n",
    "I_strat = (X_bar_s - se * norm.ppf(1 - alpha/2), X_bar_s + se * norm.ppf(1 - alpha/2))\n",
    "# Verjetnost, da je mu \\in I je 95% pri stopnji tveganja 5%\n",
    "\n",
    "#dolžina intervala\n",
    "print(I_strat[1] - I_strat[0])\n",
    "\n",
    "# (aproksimativni) interval zaupanja za populacijsko povprečje (mu), kadar ne poznamo populacijske \n",
    "# variance in namesto tega uporabimo oceno za standardno napako. \n",
    "# Ker je velikost vzorca dovolj velika (>100), je uporaba te ocene za standardno napako okej\n",
    "I_aproks_strat = (X_bar_s - se_hat * norm.ppf(1 - alpha/2), X_bar_s + se_hat * norm.ppf(1 - alpha/2))\n",
    "\n",
    "# dolžina aproksimativnega intervala\n",
    "print(I_aproks_strat[1] - I_aproks_strat[0])\n"
   ],
   "outputs": [
    {
     "output_type": "stream",
     "name": "stdout",
     "text": [
      "6224.055482753538\n",
      "5548.836625626107\n"
     ]
    }
   ],
   "metadata": {}
  },
  {
   "cell_type": "code",
   "execution_count": 7,
   "source": [
    "# poskusimo še z aproksimativnim intervalom zaupanja, ki uporablja studentovo porazdelitev.\n",
    "\n",
    "ni_hat = se_hat**4 / sum(W[l]**4 * s2_strat[l] / (n_strat[l] * (n_strat[l] - 1)) for l in range(4))\n",
    "\n",
    "I_student_strat = (X_bar_s - se_hat * t.ppf(1 - alpha/2, ni_hat), X_bar_s + se_hat * t.ppf(1 - alpha/2, ni_hat))\n",
    "\n",
    "# dolžina Studentovega aproksimativnega intevala\n",
    "print(I_student_strat[1] - I_student_strat[0])"
   ],
   "outputs": [
    {
     "output_type": "stream",
     "name": "stdout",
     "text": [
      "5548.836627815399\n"
     ]
    }
   ],
   "metadata": {}
  },
  {
   "cell_type": "markdown",
   "source": [
    "Po primerjanju dolžin intervalov zaupanja pri stratificiranem in pri nestratificiranem modelu opazimo, da sta oba intervala zaupanja pri stratificiranem modelu krajša, kar je za napovedovanje boljše! "
   ],
   "metadata": {}
  },
  {
   "cell_type": "code",
   "execution_count": null,
   "source": [
    "# counter = 0\n",
    "# for i in range(100):\n",
    "#     vzorec_strat = stratificiran_vzorec()\n",
    "#     X_bar_strat = [sum(vzorec_strat[i]['DOHODEK'])/n_strat[i] for i in range(4)]\n",
    "#     X_bar_s = sum(W[i]*X_bar_strat[i] for i in range(4))\n",
    "#     s2_strat = [\n",
    "#         sum((vzorec_strat[l]['DOHODEK'] - X_bar_strat[l])**2)/(n_strat[l] - 1) for l in range(4)\n",
    "#     ]\n",
    "#     se_hat = np.sqrt(\n",
    "#         sum(W[l]**2 * s2_strat[l] * (1 - n_strat[l]/N_strat[l]) / n_strat[l] for l in range(4))\n",
    "#     )\n",
    "\n",
    "#     I = pd.Interval(X_bar_s - se_hat * norm.ppf(1 - alpha/2), X_bar_s + se_hat * norm.ppf(1 - alpha/2))\n",
    "#     if mu in I:\n",
    "#         counter += 1\n",
    "# print(counter)"
   ],
   "outputs": [],
   "metadata": {}
  },
  {
   "cell_type": "code",
   "execution_count": 18,
   "source": [
    "%store -r I\n",
    "%store -r I_aproks\n",
    "%store -r I_student\n",
    "\n",
    "interval_dict = dict()\n",
    "interval_dict['interval'] = [\n",
    "    'Normalen interval zaupanja', \n",
    "    'Aproksimativen normalen\\ninterval zaupanja', \n",
    "    'Studentov interval zaupanja',\n",
    "    'Stratificiran normalen\\ninterval zaupanja', \n",
    "    'Stratificiran aproksimativen\\nnormalen interval zaupanja',\n",
    "    'Stratificiran Studentov\\ninterval zaupanja' \n",
    "]\n",
    "interval_dict['lower'] = [I[0], I_aproks[0], I_student[0], I_strat[0], I_aproks_strat[0], I_student_strat[0]]\n",
    "interval_dict['upper'] = [I[1], I_aproks[1], I_student[1], I_strat[1], I_aproks_strat[1], I_student_strat[1]]\n",
    "\n",
    "intervals = pd.DataFrame(interval_dict)\n",
    "\n",
    "fig = plt.figure(1, figsize=(10,6))\n",
    "fig.subplots_adjust(left=0.22, right=0.98)\n",
    "ax = fig.add_subplot(111)\n",
    "colors = ['#26DCD6','#6526DC','#2687DC',]\n",
    "for lower, upper, y in zip(intervals['lower'], intervals['upper'], range(len(intervals),0,-1)):\n",
    "    ax.plot((lower,upper), (y+1,y+1), 'ro-', color=colors[y % 3])\n",
    "ax.set_yticks(range(len(intervals)+1,0,-1))\n",
    "ax.set_yticklabels(intervals.interval)\n",
    "ax.set_xticks(range(35000, 43000, 1000))\n",
    "ax.axvline(x=mu, c='r', alpha=0.8, ls='--', label='povprečen dohodek populacije')\n",
    "ax.legend(loc='lower left')\n",
    "\n",
    "# plt.savefig('intervali_zaupanja.pdf')"
   ],
   "outputs": [
    {
     "output_type": "display_data",
     "data": {
      "text/plain": [
       "<Figure size 720x432 with 1 Axes>"
      ],
      "image/png": "[encoded data removed]"
     },
     "metadata": {
      "needs_background": "light"
     }
    }
   ],
   "metadata": {}
  }
 ],
 "metadata": {
  "orig_nbformat": 4,
  "language_info": {
   "name": "python",
   "version": "3.7.2",
   "mimetype": "text/x-python",
   "codemirror_mode": {
    "name": "ipython",
    "version": 3
   },
   "pygments_lexer": "ipython3",
   "nbconvert_exporter": "python",
   "file_extension": ".py"
  },
  "kernelspec": {
   "name": "python3",
   "display_name": "Python 3.7.2 64-bit"
  },
  "interpreter": {
   "hash": "aee8b7b246df8f9039afb4144a1f6fd8d2ca17a180786b69acc140d282b71a49"
  }
 },
 "nbformat": 4,
 "nbformat_minor": 2
}