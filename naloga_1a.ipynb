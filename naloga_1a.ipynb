{
 "cells": [
  {
   "cell_type": "code",
   "execution_count": 8,
   "source": [
    "import pandas as pd\n",
    "import numpy as np\n",
    "import matplotlib.pyplot as plt\n",
    "from scipy.stats import norm, t\n",
    "\n",
    "data = pd.read_csv('17_sem_nal_Izak_Jenko/Kibergrad.csv')\n",
    "pd.options.display.max_rows = 15"
   ],
   "outputs": [],
   "metadata": {}
  },
  {
   "cell_type": "code",
   "execution_count": 2,
   "source": [
    "data"
   ],
   "outputs": [
    {
     "output_type": "execute_result",
     "data": {
      "text/plain": [
       "       TIP  CLANOV  OTROK  DOHODEK  CETRT  IZOBRAZBA\n",
       "0        1       2      0    43450      1         39\n",
       "1        1       2      0    79000      1         40\n",
       "2        1       2      0    51306      1         39\n",
       "3        1       4      2    24850      1         41\n",
       "4        1       4      2    65145      1         43\n",
       "...    ...     ...    ...      ...    ...        ...\n",
       "43881    1       5      3    30800      4         36\n",
       "43882    1       2      0    16684      4         34\n",
       "43883    1       2      0    12000      4         39\n",
       "43884    1       2      0    50022      4         34\n",
       "43885    1       9      7    21082      4         39\n",
       "\n",
       "[43886 rows x 6 columns]"
      ],
      "text/html": [
       "<div>\n",
       "<style scoped>\n",
       "    .dataframe tbody tr th:only-of-type {\n",
       "        vertical-align: middle;\n",
       "    }\n",
       "\n",
       "    .dataframe tbody tr th {\n",
       "        vertical-align: top;\n",
       "    }\n",
       "\n",
       "    .dataframe thead th {\n",
       "        text-align: right;\n",
       "    }\n",
       "</style>\n",
       "<table border=\"1\" class=\"dataframe\">\n",
       "  <thead>\n",
       "    <tr style=\"text-align: right;\">\n",
       "      <th></th>\n",
       "      <th>TIP</th>\n",
       "      <th>CLANOV</th>\n",
       "      <th>OTROK</th>\n",
       "      <th>DOHODEK</th>\n",
       "      <th>CETRT</th>\n",
       "      <th>IZOBRAZBA</th>\n",
       "    </tr>\n",
       "  </thead>\n",
       "  <tbody>\n",
       "    <tr>\n",
       "      <td>0</td>\n",
       "      <td>1</td>\n",
       "      <td>2</td>\n",
       "      <td>0</td>\n",
       "      <td>43450</td>\n",
       "      <td>1</td>\n",
       "      <td>39</td>\n",
       "    </tr>\n",
       "    <tr>\n",
       "      <td>1</td>\n",
       "      <td>1</td>\n",
       "      <td>2</td>\n",
       "      <td>0</td>\n",
       "      <td>79000</td>\n",
       "      <td>1</td>\n",
       "      <td>40</td>\n",
       "    </tr>\n",
       "    <tr>\n",
       "      <td>2</td>\n",
       "      <td>1</td>\n",
       "      <td>2</td>\n",
       "      <td>0</td>\n",
       "      <td>51306</td>\n",
       "      <td>1</td>\n",
       "      <td>39</td>\n",
       "    </tr>\n",
       "    <tr>\n",
       "      <td>3</td>\n",
       "      <td>1</td>\n",
       "      <td>4</td>\n",
       "      <td>2</td>\n",
       "      <td>24850</td>\n",
       "      <td>1</td>\n",
       "      <td>41</td>\n",
       "    </tr>\n",
       "    <tr>\n",
       "      <td>4</td>\n",
       "      <td>1</td>\n",
       "      <td>4</td>\n",
       "      <td>2</td>\n",
       "      <td>65145</td>\n",
       "      <td>1</td>\n",
       "      <td>43</td>\n",
       "    </tr>\n",
       "    <tr>\n",
       "      <td>...</td>\n",
       "      <td>...</td>\n",
       "      <td>...</td>\n",
       "      <td>...</td>\n",
       "      <td>...</td>\n",
       "      <td>...</td>\n",
       "      <td>...</td>\n",
       "    </tr>\n",
       "    <tr>\n",
       "      <td>43881</td>\n",
       "      <td>1</td>\n",
       "      <td>5</td>\n",
       "      <td>3</td>\n",
       "      <td>30800</td>\n",
       "      <td>4</td>\n",
       "      <td>36</td>\n",
       "    </tr>\n",
       "    <tr>\n",
       "      <td>43882</td>\n",
       "      <td>1</td>\n",
       "      <td>2</td>\n",
       "      <td>0</td>\n",
       "      <td>16684</td>\n",
       "      <td>4</td>\n",
       "      <td>34</td>\n",
       "    </tr>\n",
       "    <tr>\n",
       "      <td>43883</td>\n",
       "      <td>1</td>\n",
       "      <td>2</td>\n",
       "      <td>0</td>\n",
       "      <td>12000</td>\n",
       "      <td>4</td>\n",
       "      <td>39</td>\n",
       "    </tr>\n",
       "    <tr>\n",
       "      <td>43884</td>\n",
       "      <td>1</td>\n",
       "      <td>2</td>\n",
       "      <td>0</td>\n",
       "      <td>50022</td>\n",
       "      <td>4</td>\n",
       "      <td>34</td>\n",
       "    </tr>\n",
       "    <tr>\n",
       "      <td>43885</td>\n",
       "      <td>1</td>\n",
       "      <td>9</td>\n",
       "      <td>7</td>\n",
       "      <td>21082</td>\n",
       "      <td>4</td>\n",
       "      <td>39</td>\n",
       "    </tr>\n",
       "  </tbody>\n",
       "</table>\n",
       "<p>43886 rows × 6 columns</p>\n",
       "</div>"
      ]
     },
     "metadata": {},
     "execution_count": 2
    }
   ],
   "metadata": {}
  },
  {
   "cell_type": "code",
   "execution_count": 3,
   "source": [
    "# a) \n",
    "\n",
    "# velikost populacije\n",
    "N = data['DOHODEK'].count()\n",
    "\n",
    "# populacijsko povprečje\n",
    "mu = data['DOHODEK'].mean()\n",
    "\n",
    "# populacijska varianca\n",
    "sigma2 = sum((data['DOHODEK'] - mu)**2)/N\n",
    "\n",
    "# standardna napaka\n",
    "n = 400\n",
    "se = np.sqrt(sigma2 * (1 - (n - 1)/(N - 1))/n)\n",
    "\n",
    "# enostavni slučajni vzorec velikosti n = 400 (brez vračanja)\n",
    "# torej enote vzorca niso neodvisne so pa enako porazdeljene\n",
    "# vzorec = data.sample(n = n)\n",
    "\n",
    "vzorec = pd.read_csv('vzorec.csv')\n",
    "\n",
    "# vzorčno povprečje - nepristranska cenilka za mu\n",
    "X_bar = vzorec['DOHODEK'].mean()\n",
    "\n",
    "# cenlika za standardno napako (ocenimo jo na podlagi vzorca)\n",
    "s2 = sum((vzorec['DOHODEK'] - X_bar)**2)/(n - 1)\n",
    "se_hat = np.sqrt(s2 * (1 - n/N)/n)\n"
   ],
   "outputs": [],
   "metadata": {}
  },
  {
   "cell_type": "markdown",
   "source": [
    "**Vprašanje:** Ali privzamem, da je standardna napaka znana, ali uporabim oceno od zgoraj? \n",
    "$$ a = b$$"
   ],
   "metadata": {}
  },
  {
   "cell_type": "code",
   "execution_count": 10,
   "source": [
    "# X_bar je vsota n enako porazdeljenih (ampak odvisnih) s.s., zato je po CLI\n",
    "# (X_bar - mu)/se porazdeljen približno standardno normalno N(0,1) oz. X_bar je porazdeljen\n",
    "# priblizno N(mu, se^2).\n",
    "\n",
    "alpha = 0.05\n",
    "\n",
    "# interval zaupanja za populacijsko povprečje (mu) pod predpostavko, da poznamo \n",
    "# populacijsko varianco sigma2, torej tocno standardno napako se. \n",
    "I = (X_bar - se * norm.ppf(1 - alpha/2), X_bar + se * norm.ppf(1 - alpha/2))\n",
    "# Verjetnost, da je mu \\in I je 95% pri stopnji tveganja 5%\n",
    "\n",
    "#dolžina intervala\n",
    "print(I[1] - I[0])\n",
    "\n",
    "# (aproksimativni) interval zaupanja za populacijsko povprečje (mu), kadar ne poznamo populacijske \n",
    "# variance in namesto tega uporabimo oceno za standardno napako.\n",
    "I_aproks = (X_bar - se_hat * norm.ppf(1 - alpha/2), X_bar + se_hat * norm.ppf(1 - alpha/2))\n",
    "\n",
    "# dolžina aproksimativnega intervala\n",
    "print(I_aproks[1] - I_aproks[0])\n",
    "\n",
    "# studentov interval zaupanja\n",
    "I_student = (X_bar - se_hat * t.ppf(1 - alpha/2, n - 1), X_bar + se_hat * t.ppf(1 - alpha/2, n - 1))\n",
    "# dolžina je\n",
    "I_student[1] - I_student[0]\n",
    " "
   ],
   "outputs": [
    {
     "output_type": "stream",
     "name": "stdout",
     "text": [
      "6250.57629231918\n",
      "6716.139358708082\n"
     ]
    },
    {
     "output_type": "execute_result",
     "data": {
      "text/plain": [
       "6736.573627188758"
      ]
     },
     "metadata": {},
     "execution_count": 10
    }
   ],
   "metadata": {}
  },
  {
   "cell_type": "markdown",
   "source": [
    "$$\n",
    "(\\bar X - se \\Phi^{-1}(1 - \\alpha/2), \\bar X + se \\Phi^{-1}(1 - \\alpha/2))\n",
    "$$"
   ],
   "metadata": {}
  },
  {
   "cell_type": "code",
   "execution_count": 5,
   "source": [
    "# Test da vidimo da vse deluje\n",
    "# Če nastavimo (aproksimativni) inteval zaupanja \n",
    "#   (X_bar - se_hat * phi^-1(1 - alpha/2), X_bar + se_hat * phi^-1(1 - alpha/2)),\n",
    "# pričakujemo, da bo v 95% ta interval pokril populacijsko povprečje mu\n",
    "\n",
    "counter = 0\n",
    "for i in range(100):\n",
    "    vzorec = data.sample(n = n)\n",
    "    X_bar = vzorec['DOHODEK'].mean()\n",
    "    s2 = sum((vzorec['DOHODEK'] - X_bar)**2)/(n - 1)\n",
    "    se_hat = np.sqrt(s2 * (1 - n/N)/n)\n",
    "\n",
    "    I = (X_bar - se_hat * norm.ppf(1 - alpha/2), X_bar + se_hat * norm.ppf(1 - alpha/2))\n",
    "    if I[0] < mu and mu < I[1]:\n",
    "        counter += 1\n",
    "print(counter)\n",
    "\n",
    "# vidimo, da se to res zgodi v priblizno 95/100 primerih...\n"
   ],
   "outputs": [
    {
     "output_type": "stream",
     "name": "stdout",
     "text": [
      "96\n"
     ]
    }
   ],
   "metadata": {}
  },
  {
   "cell_type": "code",
   "execution_count": 6,
   "source": [
    "# b) Stratumi\n",
    "\n",
    "# najprej je treba izračunati proporcionalno alokacijo\n",
    "\n",
    "# velikost stratumov\n",
    "N_strat = [data[data['CETRT'] == i]['DOHODEK'].count() for i in range(1,5)]\n",
    "# n_strat = [vzorec[vzorec['CETRT'] == i]['DOHODEK'].count() for i in range(1,5)]\n",
    "W = [N_i/N for N_i in N_strat]\n",
    "\n",
    "# populacijska povprečja po stratumih\n",
    "mu_strat = [data[data['CETRT'] == i]['DOHODEK'].mean() for i in range(1,5)]\n",
    "\n",
    "# populacijske variance po stratumih\n",
    "sigma2_strat = [sum((data[data['CETRT'] == i]['DOHODEK'] - mu_strat[i-1])**2)/N_strat[i-1] for i in range(1,5)]\n",
    "\n",
    "# proporcionalana alokacija\n",
    "print([W[i]*n for i in range(4)]) # dve največji vrednosti zaokrožimo navzgor, ostali dve pa navzdol\n",
    "n_strat = [92, 95, 123, 90]\n",
    "\n",
    "# sedaj glede na to proporcionalno alokacijo izberemo vzorec\n",
    "vzorec_strat = [\n",
    "    data[data['CETRT'] == i].sample(n=n_strat[i-1]) for i in range(1,5)\n",
    "]\n",
    "\n",
    "# stratumska povprečja vzorca\n",
    "X_bar_strat = [sum(vzorec_strat[i]['DOHODEK'])/n_strat[i] for i in range(4)]\n",
    "X_bar = sum(W[i]*X_bar_strat[i] for i in range(4))"
   ],
   "outputs": [
    {
     "output_type": "stream",
     "name": "stdout",
     "text": [
      "[92.50330401494782, 94.69990429749807, 122.65414938704826, 90.14264230050586]\n"
     ]
    }
   ],
   "metadata": {}
  },
  {
   "cell_type": "code",
   "execution_count": null,
   "source": [],
   "outputs": [],
   "metadata": {}
  }
 ],
 "metadata": {
  "kernelspec": {
   "name": "python3",
   "display_name": "Python 3.7.2 64-bit"
  },
  "language_info": {
   "codemirror_mode": {
    "name": "ipython",
    "version": 3
   },
   "file_extension": ".py",
   "mimetype": "text/x-python",
   "name": "python",
   "nbconvert_exporter": "python",
   "pygments_lexer": "ipython3",
   "version": "3.7.2"
  },
  "metadata": {
   "interpreter": {
    "hash": "aee8b7b246df8f9039afb4144a1f6fd8d2ca17a180786b69acc140d282b71a49"
   }
  },
  "orig_nbformat": 2,
  "interpreter": {
   "hash": "aee8b7b246df8f9039afb4144a1f6fd8d2ca17a180786b69acc140d282b71a49"
  }
 },
 "nbformat": 4,
 "nbformat_minor": 2
}