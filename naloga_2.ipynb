{
    "cells": [
        {
            "cell_type": "markdown",
            "source": [
                "# 2. naloga"
            ],
            "metadata": {}
        },
        {
            "cell_type": "code",
            "execution_count": 30,
            "source": [
                "import pandas as pd\n",
                "import numpy as np\n",
                "import scipy.special\n",
                "from scipy.stats import chi2"
            ],
            "outputs": [],
            "metadata": {}
        },
        {
            "cell_type": "code",
            "execution_count": 31,
            "source": [
                "data = pd.DataFrame(\n",
                "    {\n",
                "        \"st zlomov\": pd.Series(range(6)),\n",
                "        \"st palic\": pd.Series([157, 69, 35, 17, 1, 1])\n",
                "    }\n",
                ")"
            ],
            "outputs": [],
            "metadata": {}
        },
        {
            "cell_type": "code",
            "execution_count": 32,
            "source": [
                "data\n"
            ],
            "outputs": [
                {
                    "output_type": "execute_result",
                    "data": {
                        "text/plain": [
                            "   st zlomov  st palic\n",
                            "0          0       157\n",
                            "1          1        69\n",
                            "2          2        35\n",
                            "3          3        17\n",
                            "4          4         1\n",
                            "5          5         1"
                        ],
                        "text/html": [
                            "<div>\n",
                            "<style scoped>\n",
                            "    .dataframe tbody tr th:only-of-type {\n",
                            "        vertical-align: middle;\n",
                            "    }\n",
                            "\n",
                            "    .dataframe tbody tr th {\n",
                            "        vertical-align: top;\n",
                            "    }\n",
                            "\n",
                            "    .dataframe thead th {\n",
                            "        text-align: right;\n",
                            "    }\n",
                            "</style>\n",
                            "<table border=\"1\" class=\"dataframe\">\n",
                            "  <thead>\n",
                            "    <tr style=\"text-align: right;\">\n",
                            "      <th></th>\n",
                            "      <th>st zlomov</th>\n",
                            "      <th>st palic</th>\n",
                            "    </tr>\n",
                            "  </thead>\n",
                            "  <tbody>\n",
                            "    <tr>\n",
                            "      <td>0</td>\n",
                            "      <td>0</td>\n",
                            "      <td>157</td>\n",
                            "    </tr>\n",
                            "    <tr>\n",
                            "      <td>1</td>\n",
                            "      <td>1</td>\n",
                            "      <td>69</td>\n",
                            "    </tr>\n",
                            "    <tr>\n",
                            "      <td>2</td>\n",
                            "      <td>2</td>\n",
                            "      <td>35</td>\n",
                            "    </tr>\n",
                            "    <tr>\n",
                            "      <td>3</td>\n",
                            "      <td>3</td>\n",
                            "      <td>17</td>\n",
                            "    </tr>\n",
                            "    <tr>\n",
                            "      <td>4</td>\n",
                            "      <td>4</td>\n",
                            "      <td>1</td>\n",
                            "    </tr>\n",
                            "    <tr>\n",
                            "      <td>5</td>\n",
                            "      <td>5</td>\n",
                            "      <td>1</td>\n",
                            "    </tr>\n",
                            "  </tbody>\n",
                            "</table>\n",
                            "</div>"
                        ]
                    },
                    "metadata": {},
                    "execution_count": 32
                }
            ],
            "metadata": {}
        },
        {
            "cell_type": "markdown",
            "source": [
                "## Točka a)"
            ],
            "metadata": {}
        },
        {
            "cell_type": "code",
            "execution_count": 33,
            "source": [
                "n = sum(data['st palic'])\n",
                "X_bar = sum(data['st palic']*data['st zlomov']) / n\n",
                "\n",
                "p_hat = X_bar/5"
            ],
            "outputs": [],
            "metadata": {}
        },
        {
            "cell_type": "code",
            "execution_count": 34,
            "source": [
                "def bin_distrib(x, p, m=5):\n",
                "    return scipy.special.comb(m, x, exact=True) * p**x * (1 - p)**(m - x)"
            ],
            "outputs": [],
            "metadata": {}
        },
        {
            "cell_type": "markdown",
            "source": [
                "## Točka b)\n",
                "\n",
                "$$\n",
                "    H_0: \\text{število lomov je porazdeljeno z Bin($5$, $\\hat{p}$)}\n",
                "$$"
            ],
            "metadata": {}
        },
        {
            "cell_type": "code",
            "execution_count": 35,
            "source": [
                "# za Pearsonov hi kvadrat test zahtevamo, da je minimum po celici vsaj 5,\n",
                "# zato smo celici 4 in 5 pridružili celici 3.\n",
                "O = pd.Series(data[data['st palic'] > 5]['st palic'])\n",
                "O[3] += data['st palic'][4] + data['st palic'][5]"
            ],
            "outputs": [],
            "metadata": {}
        },
        {
            "cell_type": "code",
            "execution_count": 36,
            "source": [
                "# izračunajmo pričakovane rezultate po celicah, kjer upoštevamo, \n",
                "# da smo celici 3 pridružili celici 4 in 5, torej je potrebno prilagoditi\n",
                "#  E_3 = n * (p_3 + p_4 + p_5) \n",
                "\n",
                "E = pd.Series([n * bin_distrib(x, p_hat, 5) for x in range(4)])\n",
                "E[3] += n * (bin_distrib(4, p_hat, 5) + bin_distrib(5, p_hat, 5))\n",
                "\n",
                "X2 = sum((O - E)**2 / E)\n",
                "print(X2)"
            ],
            "outputs": [
                {
                    "output_type": "stream",
                    "name": "stdout",
                    "text": [
                        "44.148661018431994\n"
                    ]
                }
            ],
            "metadata": {}
        },
        {
            "cell_type": "code",
            "execution_count": 37,
            "source": [
                "alpha_1 = 0.05\n",
                "alpha_2 = 0.01\n",
                "\n",
                "# določimo še prostostne stopnje chi^2 porazdelitve \n",
                "# (po novem) imamo 4 celice, en parameter p_hat smo ocenili iz podatkov, \n",
                "# zato bomo imeli 2 prostostni stopnji.\n",
                "print(chi2.ppf(1 - alpha_1, 2))\n",
                "print(chi2.ppf(1 - alpha_2, 2))\n",
                "\n",
                "# testna statistika X2 je na našem vzorcu večja, \n",
                "# zato ničelno hipotezo zavržemo tako pri stopnji tveganja 5% kot tudi 1%."
            ],
            "outputs": [
                {
                    "output_type": "stream",
                    "name": "stdout",
                    "text": [
                        "5.991464547107979\n",
                        "9.21034037197618\n"
                    ]
                }
            ],
            "metadata": {}
        },
        {
            "cell_type": "code",
            "execution_count": 38,
            "source": [
                "O"
            ],
            "outputs": [
                {
                    "output_type": "execute_result",
                    "data": {
                        "text/plain": [
                            "0    157\n",
                            "1     69\n",
                            "2     35\n",
                            "3     19\n",
                            "Name: st palic, dtype: int64"
                        ]
                    },
                    "metadata": {},
                    "execution_count": 38
                }
            ],
            "metadata": {}
        },
        {
            "cell_type": "code",
            "execution_count": 39,
            "source": [
                "E"
            ],
            "outputs": [
                {
                    "output_type": "execute_result",
                    "data": {
                        "text/plain": [
                            "0    130.086698\n",
                            "1    107.773742\n",
                            "2     35.715195\n",
                            "3      6.424365\n",
                            "dtype: float64"
                        ]
                    },
                    "metadata": {},
                    "execution_count": 39
                }
            ],
            "metadata": {}
        },
        {
            "cell_type": "markdown",
            "source": [
                "## Točka c)"
            ],
            "metadata": {}
        },
        {
            "cell_type": "code",
            "execution_count": 40,
            "source": [
                "# dva načina za izračun iste statistike\n",
                "\n",
                "X = []\n",
                "for k in range(6):\n",
                "    X += [k] * data['st palic'][k]\n",
                "\n",
                "# 1. način\n",
                "Lambda = np.prod([\n",
                "    ( (X_bar**x) * ((5 - X_bar)**(5 - x)) ) / ( (x**x) * ((5 - x)**(5 - x)) )\n",
                "    for x in X]\n",
                "    )\n",
                "\n",
                "# 2. način\n",
                "def aux(x, x_bar):\n",
                "    if x == 0:\n",
                "        return (5 - x) * np.log((5 - x_bar) / (5 - x))\n",
                "    elif x == 5:\n",
                "        return x * np.log(x_bar/x)\n",
                "    else:\n",
                "        return x * np.log(x_bar/x) + (5 - x) * np.log((5 - x_bar) / (5 - x))\n",
                "\n",
                "logLambda = sum(aux(x, X_bar) for x in X)\n",
                "\n",
                "print(np.log(Lambda))\n",
                "print(logLambda)\n",
                "# vidimo, da data oba načina na naših podatkih isti rezultat"
            ],
            "outputs": [
                {
                    "output_type": "stream",
                    "name": "stdout",
                    "text": [
                        "-222.24428374568322\n",
                        "-222.24428374568282\n"
                    ]
                }
            ],
            "metadata": {}
        },
        {
            "cell_type": "markdown",
            "source": [
                "# Točka d)"
            ],
            "metadata": {}
        },
        {
            "cell_type": "code",
            "execution_count": 41,
            "source": [
                "Lambda = np.prod([((X_bar**x)/(x**x) * (5 - X_bar)**(5 - x)/(5 - x)**(5 - x))**data['st palic'][x] for x in range(6)])\n",
                "\n",
                "np.log(Lambda)"
            ],
            "outputs": [
                {
                    "output_type": "execute_result",
                    "data": {
                        "text/plain": [
                            "-222.24428374568322"
                        ]
                    },
                    "metadata": {},
                    "execution_count": 41
                }
            ],
            "metadata": {}
        },
        {
            "cell_type": "code",
            "execution_count": 42,
            "source": [
                "# ta funkcija bo ustvarila vrednost Bin(m, p) porazdeljene slučajne spremenljivke\n",
                "def binomial_random_number(m=5, p=p_hat): \n",
                "    return np.random.choice(np.arange(0,6), p=[bin_distrib(x,p,m) for x in range(6)])\n",
                "\n",
                "def generate_sample(n):\n",
                "    X = []\n",
                "    for _ in range(n):\n",
                "        X.append(binomial_random_number(5, p_hat))\n",
                "    return X\n",
                "\n",
                "count = 0\n",
                "for _ in range(1000):\n",
                "    X = generate_sample(n)\n",
                "    x_bar = sum(X)/len(X)\n",
                "    \n",
                "    logL = sum(aux(x, x_bar) for x in X)\n",
                "    # logL = (\n",
                "    #     sum(x * np.log(X_bar/x) for x in X if x != 0) +\n",
                "    #     sum((5 - x) * np.log((5 - X_bar) / (5 - x)) for x in X if x != 5)\n",
                "    # )\n",
                "    # print(logL)\n",
                "    # print(x_bar)\n",
                "    \n",
                "    if logL > logLambda:\n",
                "        count += 1\n",
                "\n",
                "count"
            ],
            "outputs": [
                {
                    "output_type": "execute_result",
                    "data": {
                        "text/plain": [
                            "1000"
                        ]
                    },
                    "metadata": {},
                    "execution_count": 42
                }
            ],
            "metadata": {}
        },
        {
            "cell_type": "markdown",
            "source": [
                "Vidimo, da so vrednosti testne statistike na simuliranih vzorcih vedno večje od tiste izračunane na naših konkretnih podatkih, torej bomo ničelno hipotezo, da imajo vse palice zlome porazdeljene binomsko z enakimi parametri, zavrgli."
            ],
            "metadata": {}
        }
    ],
    "metadata": {
        "orig_nbformat": 4,
        "language_info": {
            "name": "python",
            "version": "3.7.2",
            "mimetype": "text/x-python",
            "codemirror_mode": {
                "name": "ipython",
                "version": 3
            },
            "pygments_lexer": "ipython3",
            "nbconvert_exporter": "python",
            "file_extension": ".py"
        },
        "kernelspec": {
            "name": "python3",
            "display_name": "Python 3.7.2 64-bit"
        },
        "interpreter": {
            "hash": "aee8b7b246df8f9039afb4144a1f6fd8d2ca17a180786b69acc140d282b71a49"
        }
    },
    "nbformat": 4,
    "nbformat_minor": 2
}